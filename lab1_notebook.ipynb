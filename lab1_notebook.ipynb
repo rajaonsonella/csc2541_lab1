{
  "cells": [
    {
      "cell_type": "markdown",
      "metadata": {
        "id": "view-in-github",
        "colab_type": "text"
      },
      "source": [
        "<a href=\"https://colab.research.google.com/github/rajaonsonella/csc2541_lab1/blob/main/lab1_notebook.ipynb\" target=\"_parent\"><img src=\"https://colab.research.google.com/assets/colab-badge.svg\" alt=\"Open In Colab\"/></a>"
      ]
    },
    {
      "cell_type": "markdown",
      "metadata": {
        "id": "Of7_NzvVUPXt"
      },
      "source": [
        "# CSC2541 - Lab 1: Deep Learning for structure-based drug design (SBDD)\n",
        "\n",
        "Structure-based drug design (SBDD) aims at designing small-molecule ligands that bind with high affinity and specificity to pre-determined protein targets which have been identified as having therapeutic potential. Specifically, this approach focuses on leveraging the 3D structure of the protein target to rationally design a ligand.\n",
        "\n",
        "In this lab, we aim at giving you an introduction to SBDD and the latest deep learning models used in the field. The lab is structured into three parts\n",
        "\n",
        "### Table of Content\n",
        "\n",
        "1.   Pre-module: Introduction to the Protein Data Bank (PDB) (~30 mins)\n",
        "2.   Module: Exploring how ML does at Ligand pose prediction (~50 mins)\n",
        "3.   Post-module (assignment): Evaluating a state of the art ML model (Boltz2) on various protein ligand complex pose prediction (~60 mins)"
      ]
    },
    {
      "cell_type": "markdown",
      "metadata": {
        "id": "miZ6qZa5UPXu"
      },
      "source": [
        "# Colab Set Up"
      ]
    },
    {
      "cell_type": "code",
      "source": [],
      "metadata": {
        "id": "mq_tAWEiURki"
      },
      "execution_count": null,
      "outputs": []
    },
    {
      "cell_type": "code",
      "execution_count": null,
      "metadata": {
        "id": "T3eI1aEyUPXv"
      },
      "outputs": [],
      "source": [
        "import ipywidgets\n",
        "from IPython.display import display"
      ]
    },
    {
      "cell_type": "markdown",
      "metadata": {
        "id": "-mCGxTWLUPXv"
      },
      "source": [
        "# Pre-module: Introduction to the Protein Data Bank (PDB)"
      ]
    },
    {
      "cell_type": "markdown",
      "metadata": {
        "id": "6XQ0IppZUPXv"
      },
      "source": [
        "The Protein Data Bank (PDB) is a **global repository of 3D structural data for biological macromolecules** like proteins, DNA, RNA, and their complexes with ligands or drugs.\n",
        "\n",
        "\n",
        "It stores experimentally determined structures obtained through techniques such as X-ray crystallography, nuclear magnetic resonance (NMR) spectroscopy, and cryo-electron microscopy (cryo-EM). Each entry in the PDB contains atomic coordinates, experimental details, and annotations describing function and interactions of the macromolecule.\n",
        "\n",
        "Learn more about the history of PDB [here](https://www.rcsb.org/pages/about-us/history) and check out the overall growth of the database [here](https://www.rcsb.org/stats/growth/growth-released-structures)!\n",
        "\n",
        "**In this pre-module we are going to:**\n",
        "\n",
        "* Review the basics about proteins\n",
        "* Learn more about the file format used to store this type of data\n",
        "* Learn how to programmatically retrieve protein structures and extract key metadata\n",
        "* Visualize protein structures interactively in 3D using Python tools"
      ]
    },
    {
      "cell_type": "markdown",
      "metadata": {
        "id": "mPRCdCuWUPXv"
      },
      "source": [
        "## The PDBx/mmCIF file format"
      ]
    },
    {
      "cell_type": "markdown",
      "metadata": {
        "id": "nzozd22aUPXv"
      },
      "source": [
        "The files found in the PDB are available in several formats (PDB, mmCIF, XML). We will focus on the PDBx/mmCIF file format, which is the current preferred format.\n",
        "\n",
        "\n",
        "**Note:** This is a quick intro to the file format, full documentation can be found at [https://mmcif.wwpdb.org/](https://mmcif.wwpdb.org/)\n",
        "\n",
        "\n",
        "Let's first download a file and open it to see what the format looks like:"
      ]
    },
    {
      "cell_type": "code",
      "execution_count": null,
      "metadata": {
        "id": "XAbtxVjqUPXw",
        "outputId": "d805b9c0-68f0-4d3c-a23a-657740c3d88a"
      },
      "outputs": [
        {
          "name": "stdout",
          "output_type": "stream",
          "text": [
            "Printing the first 10 lines in the file: \n",
            "\n",
            "data_4INS\n",
            "#\n",
            "_entry.id   4INS\n",
            "#\n",
            "_audit_conform.dict_name       mmcif_pdbx.dic\n",
            "_audit_conform.dict_version    5.397\n",
            "_audit_conform.dict_location   http://mmcif.pdb.org/dictionaries/ascii/mmcif_pdbx.dic\n",
            "#\n",
            "loop_\n",
            "_database_2.database_id\n"
          ]
        }
      ],
      "source": [
        "# Download an mmCIF file\n",
        "\n",
        "# Colab tip -- You can download the file to your local machine by:\n",
        "# 1) clicking on the folder icon on the colab menu\n",
        "# 2) locating the file and double-clicking on it\n",
        "\n",
        "# Let's specify the PDB ID of the file we want to download\n",
        "pdb_id = \"4INS\"\n",
        "\n",
        "import urllib.request\n",
        "urllib.request.urlretrieve(f\"https://files.rcsb.org/download/{pdb_id}.cif\", f\"{pdb_id}.cif\")\n",
        "\n",
        "# View first few lines\n",
        "num_lines_to_print = 10\n",
        "with open(\"4INS.cif\") as f:\n",
        "    print(f\"Printing the first {num_lines_to_print} lines in the file: \\n\")\n",
        "    for _ in range(num_lines_to_print):\n",
        "        print(f.readline().strip())"
      ]
    },
    {
      "cell_type": "markdown",
      "metadata": {
        "id": "EZLdjUoUUPXw"
      },
      "source": [
        "As you can see, it is quite challenging to handle these files \"by ourselves\" that's why many python libraries have built-in parsers to easily retrieve this data and focus on the rest. We will use one of those parser shortly, but for now let's try to see what the protein structure we have within this file looks like:"
      ]
    },
    {
      "cell_type": "code",
      "execution_count": null,
      "metadata": {
        "id": "mts21FKrUPXw",
        "outputId": "cfac705e-6b58-4ed4-c23b-63539e1e50b4"
      },
      "outputs": [
        {
          "data": {
            "application/3dmoljs_load.v0": "<div id=\"3dmolviewer_1756075752210121\"  style=\"position: relative; width: 640px; height: 480px;\">\n        <p id=\"3dmolwarning_1756075752210121\" style=\"background-color:#ffcccc;color:black\">3Dmol.js failed to load for some reason.  Please check your browser console for error messages.<br></p>\n        </div>\n<script>\n\nvar loadScriptAsync = function(uri){\n  return new Promise((resolve, reject) => {\n    //this is to ignore the existence of requirejs amd\n    var savedexports, savedmodule;\n    if (typeof exports !== 'undefined') savedexports = exports;\n    else exports = {}\n    if (typeof module !== 'undefined') savedmodule = module;\n    else module = {}\n\n    var tag = document.createElement('script');\n    tag.src = uri;\n    tag.async = true;\n    tag.onload = () => {\n        exports = savedexports;\n        module = savedmodule;\n        resolve();\n    };\n  var firstScriptTag = document.getElementsByTagName('script')[0];\n  firstScriptTag.parentNode.insertBefore(tag, firstScriptTag);\n});\n};\n\nif(typeof $3Dmolpromise === 'undefined') {\n$3Dmolpromise = null;\n  $3Dmolpromise = loadScriptAsync('https://cdn.jsdelivr.net/npm/3dmol@2.5.2/build/3Dmol-min.js');\n}\n\nvar viewer_1756075752210121 = null;\nvar warn = document.getElementById(\"3dmolwarning_1756075752210121\");\nif(warn) {\n    warn.parentNode.removeChild(warn);\n}\n$3Dmolpromise.then(function() {\nviewer_1756075752210121 = $3Dmol.createViewer(document.getElementById(\"3dmolviewer_1756075752210121\"),{backgroundColor:\"white\"});\n$3Dmol.download(\"pdb:4INS\", viewer_1756075752210121, {}, function() {\nviewer_1756075752210121.zoomTo();\n\tviewer_1756075752210121.setStyle({\"cartoon\": {\"color\": \"spectrum\"}});\nviewer_1756075752210121.render();\n})\n});\n</script>",
            "text/html": [
              "<div id=\"3dmolviewer_1756075752210121\"  style=\"position: relative; width: 640px; height: 480px;\">\n",
              "        <p id=\"3dmolwarning_1756075752210121\" style=\"background-color:#ffcccc;color:black\">3Dmol.js failed to load for some reason.  Please check your browser console for error messages.<br></p>\n",
              "        </div>\n",
              "<script>\n",
              "\n",
              "var loadScriptAsync = function(uri){\n",
              "  return new Promise((resolve, reject) => {\n",
              "    //this is to ignore the existence of requirejs amd\n",
              "    var savedexports, savedmodule;\n",
              "    if (typeof exports !== 'undefined') savedexports = exports;\n",
              "    else exports = {}\n",
              "    if (typeof module !== 'undefined') savedmodule = module;\n",
              "    else module = {}\n",
              "\n",
              "    var tag = document.createElement('script');\n",
              "    tag.src = uri;\n",
              "    tag.async = true;\n",
              "    tag.onload = () => {\n",
              "        exports = savedexports;\n",
              "        module = savedmodule;\n",
              "        resolve();\n",
              "    };\n",
              "  var firstScriptTag = document.getElementsByTagName('script')[0];\n",
              "  firstScriptTag.parentNode.insertBefore(tag, firstScriptTag);\n",
              "});\n",
              "};\n",
              "\n",
              "if(typeof $3Dmolpromise === 'undefined') {\n",
              "$3Dmolpromise = null;\n",
              "  $3Dmolpromise = loadScriptAsync('https://cdn.jsdelivr.net/npm/3dmol@2.5.2/build/3Dmol-min.js');\n",
              "}\n",
              "\n",
              "var viewer_1756075752210121 = null;\n",
              "var warn = document.getElementById(\"3dmolwarning_1756075752210121\");\n",
              "if(warn) {\n",
              "    warn.parentNode.removeChild(warn);\n",
              "}\n",
              "$3Dmolpromise.then(function() {\n",
              "viewer_1756075752210121 = $3Dmol.createViewer(document.getElementById(\"3dmolviewer_1756075752210121\"),{backgroundColor:\"white\"});\n",
              "$3Dmol.download(\"pdb:4INS\", viewer_1756075752210121, {}, function() {\n",
              "viewer_1756075752210121.zoomTo();\n",
              "\tviewer_1756075752210121.setStyle({\"cartoon\": {\"color\": \"spectrum\"}});\n",
              "viewer_1756075752210121.render();\n",
              "})\n",
              "});\n",
              "</script>"
            ]
          },
          "metadata": {},
          "output_type": "display_data"
        },
        {
          "data": {
            "text/plain": [
              "<py3Dmol.view at 0x10af41540>"
            ]
          },
          "execution_count": 22,
          "metadata": {},
          "output_type": "execute_result"
        }
      ],
      "source": [
        "import py3Dmol\n",
        "viewer = py3Dmol.view(query=f'pdb:{pdb_id}')\n",
        "viewer.setStyle({'cartoon':{'color':'spectrum'}})"
      ]
    },
    {
      "cell_type": "markdown",
      "metadata": {
        "id": "789cncg9UPXw"
      },
      "source": [
        "Let's use of of those python packages to extract information from this file more easily."
      ]
    },
    {
      "cell_type": "code",
      "execution_count": null,
      "metadata": {
        "id": "oHHLyBI0UPXw"
      },
      "outputs": [],
      "source": [
        "from biopandas.mmcif import PandasMmcif\n",
        "\n",
        "# Read the mmCIF file\n",
        "mmcif = PandasMmcif().read_mmcif('4INS.cif')"
      ]
    },
    {
      "cell_type": "code",
      "execution_count": null,
      "metadata": {
        "id": "9Ns57jD1UPXw",
        "outputId": "eb856478-fd6f-4462-c70d-8bfc2fcfbb85"
      },
      "outputs": [
        {
          "data": {
            "text/plain": [
              "dict_keys(['ATOM', 'HETATM', 'ANISOU'])"
            ]
          },
          "execution_count": 8,
          "metadata": {},
          "output_type": "execute_result"
        }
      ],
      "source": [
        "mmcif.df.keys()"
      ]
    },
    {
      "cell_type": "markdown",
      "metadata": {
        "id": "nStPaAD5UPXw"
      },
      "source": []
    }
  ],
  "metadata": {
    "kernelspec": {
      "display_name": "pdbe",
      "language": "python",
      "name": "python3"
    },
    "language_info": {
      "codemirror_mode": {
        "name": "ipython",
        "version": 3
      },
      "file_extension": ".py",
      "mimetype": "text/x-python",
      "name": "python",
      "nbconvert_exporter": "python",
      "pygments_lexer": "ipython3",
      "version": "3.10.18"
    },
    "colab": {
      "provenance": [],
      "include_colab_link": true
    }
  },
  "nbformat": 4,
  "nbformat_minor": 0
}