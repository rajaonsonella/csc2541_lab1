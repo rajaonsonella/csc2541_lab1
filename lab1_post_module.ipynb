{
 "cells": [
  {
   "cell_type": "markdown",
   "metadata": {},
   "source": [
    "# CSC2541 - Lab 1: Deep Learning for structure-based drug design (SBDD)\n",
    "\n",
    "Structure-based drug design (SBDD) aims at designing small-molecule ligands that bind with high affinity and specificity to pre-determined protein targets which have been identified as having therapeutic potential. Specifically, this approach focuses on leveraging the 3D structure of the protein target to rationally design a ligand.\n",
    "\n",
    "In this lab, we aim at giving you an introduction to SBDD and the latest deep learning models used in the field. The lab is structured into three parts\n",
    "\n",
    "### Table of Content\n",
    "\n",
    "1.   Pre-module: Introduction to the Protein Data Bank (PDB) (~30 mins)\n",
    "2.   Module: Exploring how ML does at Ligand pose prediction (~50 mins)\n",
    "3.   Post-module (assignment): Evaluating a state of the art ML model (Boltz2) on various protein ligand complex pose prediction (~60 mins)"
   ]
  },
  {
   "cell_type": "markdown",
   "metadata": {},
   "source": [
    "# Colab Set Up"
   ]
  },
  {
   "cell_type": "code",
   "execution_count": null,
   "metadata": {},
   "outputs": [],
   "source": [
    "import os\n",
    "import subprocess\n",
    "\n",
    "print('Installing dependencies... ', end='')\n",
    "dependencies = \"torch torchvision torchaudio numpy hydra-core pytorch-lightning \"\n",
    "dependencies += \"rdkit dm-tree requests pandas types-requests einops einx fairscale \"\n",
    "dependencies += \"mashumaro modelcif wandb click pyyaml biopython scipy numba gemmi \"\n",
    "dependencies += \"scikit-learn chembl_structure_pipeline \"\n",
    "dependencies += \"cuequivariance_ops_cu12 cuequivariance_ops_torch_cu12 cuequivariance_torch\"\n",
    "\n",
    "subprocess.run(\"pip install ipywidgets torch torchvision torchaudio\", shell=True)\n",
    "subprocess.run(\"git clone https://github.com/jwohlwend/boltz.git\", shell=True)\n",
    "subprocess.run(f\"sed -i 's/bf16-mixed/32-true/g' /content/boltz/src/boltz/main.py\", shell=True)\n",
    "subprocess.run(f\"pip install {dependencies}\", shell=True)\n",
    "subprocess.run(\"cd boltz; pip install --no-deps -e .\", shell=True)\n",
    "\n",
    "print('done.')"
   ]
  },
  {
   "cell_type": "code",
   "execution_count": null,
   "metadata": {},
   "outputs": [],
   "source": [
    "!pip install boltz"
   ]
  },
  {
   "cell_type": "markdown",
   "metadata": {},
   "source": [
    "# Post-Module: Assessing co-folding methods capabilities on a case study"
   ]
  },
  {
   "cell_type": "markdown",
   "metadata": {},
   "source": [
    "### Logistics\n",
    "\n",
    "For this lab, we are going to split into 2 groups\n",
    "\n",
    "\n",
    "### Group 1:\n",
    "\n",
    "> Ligand:\n",
    ">\n",
    "> * Name:\n",
    ">\n",
    "> * SMILES:\n",
    ">\n",
    "> Protein:\n",
    "> * PDB ID:\n",
    "\n",
    "### Group 2:\n",
    "\n",
    "> Ligand:\n",
    ">\n",
    "> * Name:\n",
    ">\n",
    "> * SMILES:\n",
    ">\n",
    "> Protein:\n",
    "> * PDB ID:"
   ]
  },
  {
   "cell_type": "code",
   "execution_count": 2,
   "metadata": {},
   "outputs": [],
   "source": [
    "## Write a Yaml File"
   ]
  },
  {
   "cell_type": "code",
   "execution_count": 3,
   "metadata": {},
   "outputs": [],
   "source": [
    "## Use pre-computed MSAs"
   ]
  },
  {
   "cell_type": "code",
   "execution_count": null,
   "metadata": {},
   "outputs": [],
   "source": [
    "#@title Run prediction using Boltz-2\n",
    "#@markdown Output format\n",
    "output_format = 'mmcif' #@param [\"pdb\", \"mmcif\"]\n",
    "#@markdown Number of dataloader workers\n",
    "num_workers = 0 #@param {type:\"slider\", min:0, max:5, step:1}\n",
    "#@markdown Lower the step scale to increase the diversity of result. (default: 1.638)\n",
    "step_scale = 1.638 #@param {type:\"slider\", min:1, max:2, step:0.001}\n",
    "#@markdown Number of diffusion samples to be generated. (default: 1, AlphaFold3: 5)\n",
    "diffusion_samples = 1 #@param {type:\"slider\", min:1, max:10, step:1}\n",
    "#@markdown Number of recycling steps for the prediction. (default: 3, AlphaFold3: 10)\n",
    "recycling_steps = 3 #@param {type:\"slider\", min:1, max:25, step:1}\n",
    "#@markdown Number of sampling steps for structure prediction. (default: 200)\n",
    "sampling_steps = 50 #@param {type:\"slider\", min:50, max:400, step:50}\n",
    "#@markdown Maximum number of MSA sequences to be used\n",
    "max_msa_seqs = 8192 #@param [32, 64, 128, 256, 512, 1024, 2048, 4096, 8192]\n",
    "#@markdown Subsample MSA?\n",
    "subsample_msa = False #@param {type:\"boolean\"}\n",
    "#@markdown Number of subsampled MSA\n",
    "num_subsampled_msa = 1024 #@param [4, 8, 16, 32, 64, 128, 256, 512, 1024]\n",
    "#@markdown MSA pairing strategy\n",
    "msa_pairing_strategy = 'greedy' #@param ['greedy', 'complete']\n",
    "#@markdown Use GPU\n",
    "device = 'gpu' #@param ['gpu', 'cpu']\n",
    "\n",
    "commandline = f'boltz_job.yaml --num_workers {num_workers} --step_scale {step_scale} --recycling_steps {recycling_steps} --sampling_steps {sampling_steps}'\n",
    "commandline += f' --diffusion_samples {diffusion_samples} --max_msa_seqs {max_msa_seqs} --msa_pairing_strategy {msa_pairing_strategy}'\n",
    "if subsample_msa:\n",
    "    commandline += f' --num_subsampled_msa {num_subsampled_msa}'\n",
    "if device == \"gpu\":\n",
    "    commandline += ' --no_kernels --accelerator gpu'\n",
    "else:\n",
    "    commandline += ' --accelerator cpu'\n",
    "\n",
    "!boltz predict {commandline} --out_dir /content/{job_title}"
   ]
  }
 ],
 "metadata": {
  "kernelspec": {
   "display_name": "pdbe",
   "language": "python",
   "name": "python3"
  },
  "language_info": {
   "codemirror_mode": {
    "name": "ipython",
    "version": 3
   },
   "file_extension": ".py",
   "mimetype": "text/x-python",
   "name": "python",
   "nbconvert_exporter": "python",
   "pygments_lexer": "ipython3",
   "version": "3.10.18"
  }
 },
 "nbformat": 4,
 "nbformat_minor": 2
}
