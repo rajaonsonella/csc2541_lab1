{
  "cells": [
    {
      "cell_type": "markdown",
      "metadata": {
        "colab_type": "text",
        "id": "view-in-github"
      },
      "source": [
        "<a href=\"https://colab.research.google.com/github/rajaonsonella/csc2541_lab1/blob/main/lab1_notebook.ipynb\" target=\"_parent\"><img src=\"https://colab.research.google.com/assets/colab-badge.svg\" alt=\"Open In Colab\"/></a>"
      ]
    },
    {
      "cell_type": "markdown",
      "metadata": {
        "id": "3bbwuvufUbdm"
      },
      "source": [
        "# CSC2541 - Lab 1: Deep Learning for structure-based drug design (SBDD)\n",
        "\n",
        "Structure-based drug design (SBDD) aims at designing small-molecule ligands that bind with high affinity and specificity to pre-determined protein targets which have been identified as having therapeutic potential. Specifically, this approach focuses on leveraging the 3D structure of the protein target to rationally design a ligand.\n",
        "\n",
        "In this lab, we aim at giving you an introduction to SBDD and the latest deep learning models used in the field. The lab is structured into three parts\n",
        "\n",
        "### Table of Content\n",
        "\n",
        "1.   Pre-module: Introduction to the Protein Data Bank (PDB) (~30 mins)\n",
        "2.   Module: Exploring how ML does at Ligand pose prediction (~50 mins)\n",
        "3.   Post-module (assignment): Evaluating a state of the art ML model (Boltz2) on various protein ligand complex pose prediction (~60 mins)"
      ]
    },
    {
      "cell_type": "markdown",
      "metadata": {
        "id": "gqSv08S-Ubdo"
      },
      "source": [
        "# Colab Set Up"
      ]
    },
    {
      "cell_type": "code",
      "execution_count": null,
      "metadata": {
        "colab": {
          "base_uri": "https://localhost:8080/"
        },
        "id": "tJ8LbNyvRodb",
        "outputId": "705c6856-3fd0-4482-85fb-db4862eb3858"
      },
      "outputs": [
        {
          "name": "stdout",
          "output_type": "stream",
          "text": [
            "Downloading necessary libraries...\n"
          ]
        }
      ],
      "source": [
        "from IPython.utils import io\n",
        "print('Downloading necessary libraries...')\n",
        "def install_libraries():\n",
        "  !pip install py3Dmol -q\n",
        "  !pip install biopython -q\n",
        "with io.capture_output() as captured:\n",
        "  install_libraries()"
      ]
    },
    {
      "cell_type": "code",
      "execution_count": null,
      "metadata": {
        "id": "UrUrc9YqUbdo"
      },
      "outputs": [],
      "source": [
        "import ipywidgets\n",
        "from IPython.display import display"
      ]
    },
    {
      "cell_type": "markdown",
      "metadata": {
        "id": "nQyx050ZUbdo"
      },
      "source": [
        "# Pre-module: Introduction to the Protein Data Bank (PDB)"
      ]
    },
    {
      "cell_type": "markdown",
      "metadata": {
        "id": "vxVj-SktUbdo"
      },
      "source": [
        "The Protein Data Bank (PDB) is a **global repository of 3D structural data for biological macromolecules** like proteins, DNA, RNA, and their complexes with ligands or drugs.\n",
        "\n",
        "\n",
        "It stores experimentally determined structures obtained through techniques such as X-ray crystallography, nuclear magnetic resonance (NMR) spectroscopy, and cryo-electron microscopy (cryo-EM). Each entry in the PDB contains atomic coordinates, experimental details, and annotations describing function and interactions of the macromolecule.\n",
        "\n",
        "Learn more about the history of PDB [here](https://www.rcsb.org/pages/about-us/history) and check out the overall growth of the database [here](https://www.rcsb.org/stats/growth/growth-released-structures)!\n",
        "\n",
        "**In this pre-module we are going to:**\n",
        "\n",
        "* Review the basics about proteins\n",
        "* Learn more about the file format used to store this type of data\n",
        "* Learn how to programmatically retrieve protein structures and extract key metadata\n",
        "* Visualize protein structures interactively in 3D using Python tools"
      ]
    },
    {
      "cell_type": "markdown",
      "metadata": {
        "id": "tUPAQtnLk6Qc"
      },
      "source": [
        "## Protein 101 recap"
      ]
    },
    {
      "cell_type": "markdown",
      "metadata": {
        "id": "mHu6dmPwk-oW"
      },
      "source": [
        "TBD"
      ]
    },
    {
      "cell_type": "markdown",
      "metadata": {
        "id": "nMcBI9x8Ubdo"
      },
      "source": [
        "## The PDBx/mmCIF file format"
      ]
    },
    {
      "cell_type": "markdown",
      "metadata": {
        "id": "UCZyORWaUbdp"
      },
      "source": [
        "The files found in the PDB are available in several formats (PDB, mmCIF, XML). We will focus on the PDBx/mmCIF file format, which is the current preferred format.\n",
        "\n",
        "\n",
        "**Note:** This is a quick intro to the file format, full documentation can be found at [https://mmcif.wwpdb.org/](https://mmcif.wwpdb.org/)\n",
        "\n",
        "\n",
        "Let's first download a file and open it to see what the format looks like:"
      ]
    },
    {
      "cell_type": "code",
      "execution_count": null,
      "metadata": {
        "id": "gNUKvRemUbdp"
      },
      "outputs": [],
      "source": [
        "# Download an mmCIF file\n",
        "\n",
        "# Colab tip -- You can download the file to your local machine by:\n",
        "# 1) clicking on the folder icon on the colab menu\n",
        "# 2) locating the file and double-clicking on it\n",
        "\n",
        "# Let's specify the PDB ID of the file we want to download\n",
        "pdb_id = \"4INS\"\n",
        "\n",
        "import urllib.request\n",
        "urllib.request.urlretrieve(f\"https://files.rcsb.org/download/{pdb_id}.cif\", f\"{pdb_id}.cif\")\n",
        "\n",
        "# View first few lines\n",
        "num_lines_to_print = 10\n",
        "with open(\"4INS.cif\") as f:\n",
        "    print(f\"Printing the first {num_lines_to_print} lines in the file: \\n\")\n",
        "    for _ in range(num_lines_to_print):\n",
        "        print(f.readline().strip())"
      ]
    },
    {
      "cell_type": "markdown",
      "metadata": {
        "id": "n7k537LTUbdp"
      },
      "source": [
        "As you can see, it is quite challenging to handle these files \"by ourselves\" that's why many python libraries have built-in parsers to easily retrieve this data and focus on the rest. The lines we are usually interested in within this file are the one describing the 3D structure of the protein, let's use of of those python packages to extract this information from this file more easily."
      ]
    },
    {
      "cell_type": "code",
      "execution_count": null,
      "metadata": {
        "id": "FAMzr_6iSxu5"
      },
      "outputs": [],
      "source": [
        "!pip install biopandas -q"
      ]
    },
    {
      "cell_type": "code",
      "execution_count": null,
      "metadata": {
        "id": "pbl_XAZ3Ubdq"
      },
      "outputs": [],
      "source": [
        "from biopandas.mmcif import PandasMmcif\n",
        "\n",
        "# Read the mmCIF file\n",
        "mmcif = PandasMmcif().read_mmcif(f'{pdb_id}.cif')\n",
        "\n",
        "# Display the different \"keys\" of the returned dictionnary\n",
        "print(mmcif.df.keys())"
      ]
    },
    {
      "cell_type": "markdown",
      "metadata": {
        "id": "f6Y4WtgRb-sT"
      },
      "source": [
        "We created a dictionary ```mmcif``` which contains 3 keys:\n",
        "\n",
        "* **ATOM** records represent atoms that belong to standard polymer chains such as proteins and nucleic acids.\n",
        "\n",
        "* **HETATM** records describe atoms from non-polymer molecules like ligands, metal ions (e.g., zinc), and solvent molecules (e.g., water).\n",
        "\n",
        "* **ANISOU** records contain detailed information on atomic vibrations (anisotropic displacement parameters) derived from crystallography, which provide insight into atomic motion but are optional for most analyses.\n",
        "Understanding these distinctions helps when filtering or visualizing structural components relevant to your study."
      ]
    },
    {
      "cell_type": "code",
      "execution_count": null,
      "metadata": {
        "id": "iZs6ra89c1eD"
      },
      "outputs": [],
      "source": [
        "mmcif.df[\"ATOM\"]"
      ]
    },
    {
      "cell_type": "code",
      "execution_count": null,
      "metadata": {
        "id": "TQ5dRyNtc_Aj"
      },
      "outputs": [],
      "source": [
        "mmcif.df[\"HETATM\"]"
      ]
    },
    {
      "cell_type": "markdown",
      "metadata": {
        "id": "DVLPrnxvdGem"
      },
      "source": [
        "Spend some time exploring the tabular data visualization of this protein, and start imagining having to deal with several thousand of these files!\n",
        "\n",
        "**Quiz:**\n",
        "\n",
        "* Are there any solvent molecules present in that structure?\n",
        "* How many amino acid is there in this protein? How about the number of heavy atoms? How about the number of chains?\n",
        "* What does the \"occupancy\" column means? Why is this important?\n",
        "\n"
      ]
    },
    {
      "cell_type": "markdown",
      "metadata": {
        "id": "qMobJrzPeUfN"
      },
      "source": [
        "Now, this is much more readable than the raw cif format, but it is not necessarily easy to get a feel of 3D data by looking at a table. Let's try adding some visualization to truly get a sense of what we are dealing with"
      ]
    },
    {
      "cell_type": "markdown",
      "metadata": {
        "id": "n6_ziCAYYP8Q"
      },
      "source": [
        "## Visualizing proteins with py3Dmol"
      ]
    },
    {
      "cell_type": "markdown",
      "metadata": {
        "id": "PdLwEqKJYbJX"
      },
      "source": [
        "\n",
        "\n",
        "To do so, let's use the py3Dmol package created by the Koes group [see paper](https://doi.org/10.1093/bioinformatics/btu829)"
      ]
    },
    {
      "cell_type": "code",
      "execution_count": null,
      "metadata": {
        "id": "u-5U_oHyUbdp"
      },
      "outputs": [],
      "source": [
        "import py3Dmol\n",
        "view = py3Dmol.view(query=f'pdb:{pdb_id}')\n",
        "\n",
        "# Set the style, we have to add separate visualizations for the hetero atoms\n",
        "view.setStyle({'cartoon':{'color':'spectrum'}})\n",
        "view.addStyle({'atom': 'ZN'}, {'sphere': {'color': 'grey', 'radius': 1.5}})\n",
        "view.addStyle({'resn': 'HOH'}, {'sphere': {'color': 'red', 'radius': 0.5}})\n",
        "view.show()"
      ]
    },
    {
      "cell_type": "markdown",
      "metadata": {
        "id": "n8RGgrBviq51"
      },
      "source": [
        "Let's exclude the water molecules from our visualization from now on. It's important to know they are here due to the experimental nature of the structure, but it hinders our visualization. On top of that, let's add a few small changes to how we're doing the rendering to see more."
      ]
    },
    {
      "cell_type": "code",
      "execution_count": null,
      "metadata": {
        "id": "iE-Ps02QZrQf"
      },
      "outputs": [],
      "source": [
        "view = py3Dmol.view(query=f'pdb:{pdb_id}')\n",
        "view.setStyle({'cartoon': {'color':'spectrum'}})\n",
        "view.addStyle({'atom': 'ZN'}, {'sphere': {'color': 'grey', 'radius': 1.5}})\n",
        "view.addSurface(py3Dmol.VDW,{'opacity':0.7,'color':'white'}, {'not': {'resn': 'HOH'}})\n",
        "view.show()"
      ]
    },
    {
      "cell_type": "markdown",
      "metadata": {
        "id": "S5MflzvkUbdq"
      },
      "source": [
        "**Quiz:**\n",
        "\n",
        "* What does having solvent molecules within the crystal imply when modeling protein-ligand interactions?\n",
        "* Another interesting thing about this protein structure is the 2 Zn ions it has. Can AlphaFold2 handle that type of atoms? If not, what are the potential consequences of this missing feature?"
      ]
    }
  ],
  "metadata": {
    "accelerator": "GPU",
    "colab": {
      "gpuType": "T4",
      "include_colab_link": true,
      "provenance": [],
      "toc_visible": true
    },
    "kernelspec": {
      "display_name": "Python 3",
      "name": "python3"
    },
    "language_info": {
      "codemirror_mode": {
        "name": "ipython",
        "version": 3
      },
      "file_extension": ".py",
      "mimetype": "text/x-python",
      "name": "python",
      "nbconvert_exporter": "python",
      "pygments_lexer": "ipython3",
      "version": "3.10.18"
    }
  },
  "nbformat": 4,
  "nbformat_minor": 0
}
